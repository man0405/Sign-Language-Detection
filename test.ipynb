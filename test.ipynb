{
 "cells": [
  {
   "cell_type": "markdown",
   "id": "e947f9c2",
   "metadata": {},
   "source": [
    "# Real-Time American Sign Language Detection and Speech Synthesis\n",
    "\n",
    "This notebook implements a real-time Word-Level American Sign Language detection system with speech output. The system will:\n",
    "\n",
    "1. Capture video input from the webcam\n",
    "2. Detect hand gestures and classify them as ASL signs\n",
    "3. Convert recognized signs to text\n",
    "4. Synthesize speech from the recognized text\n",
    "\n",
    "This implementation uses a modular approach with code organized into the following modules:\n",
    "\n",
    "- `mediapipe_utils.py`: MediaPipe detection and landmark utilities\n",
    "- `data_processing.py`: Dataset creation and handling\n",
    "- `model_utils.py`: Model training and evaluation\n",
    "- `realtime_asl.py`: Real-time detection functionality\n",
    "- `sign_model_builder.py`: LSTM model architecture\n",
    "\n",
    "Let's get started by installing the necessary dependencies."
   ]
  },
  {
   "cell_type": "code",
   "execution_count": null,
   "id": "f15e8d02",
   "metadata": {},
   "outputs": [],
   "source": [
    "# Install requirements anually d run the script\n",
    "!pip install -r requirements.txt"
   ]
  },
  {
   "cell_type": "markdown",
   "id": "1b8427e7",
   "metadata": {},
   "source": [
    "## Import Libraries\n",
    "\n",
    "We'll import the necessary libraries and modules for our application."
   ]
  },
  {
   "cell_type": "code",
   "execution_count": 2,
   "id": "84732aa3",
   "metadata": {},
   "outputs": [],
   "source": [
    "\n",
    "import mediapipe as mp\n",
    "import os\n",
    "import pyttsx3\n",
    "import torch\n",
    "from module.helper_functions import plot_loss_curves\n",
    "\n",
    "# Import our modular components\n",
    "import sys\n",
    "sys.path.append('./module')\n",
    "from module.mediapipe_utils import setup_holistic_model\n",
    "from module.data_processing import collect_sign_data, organize_data_for_testing, create_separate_dataloaders\n",
    "from module.model_utils import train, save_model\n",
    "from module.realtime_asl import ASLDetector\n",
    "from module.sign_model_builder import LSTM_Sign_Model\n",
    "\n",
    "# Initialize MediaPipe solutions (for backward compatibility with existing code)\n",
    "mp_holistic = mp.solutions.holistic"
   ]
  },
  {
   "cell_type": "markdown",
   "id": "f1761cb6",
   "metadata": {},
   "source": [
    "## MediaPipe Setup\n",
    "\n",
    "We're using the modular implementation from `mediapipe_utils.py` for hand tracking and landmark detection."
   ]
  },
  {
   "cell_type": "code",
   "execution_count": 17,
   "id": "a5c29fd6",
   "metadata": {},
   "outputs": [],
   "source": [
    "# Initialize MediaPipe solutions for visualization if needed\n",
    "mp_holistic = mp.solutions.holistic\n",
    "mp_drawing = mp.solutions.drawing_utils\n",
    "\n",
    "# We're using the modular implementation for these functions:\n",
    "# - mediapipe_detection from module.mediapipe_utils\n",
    "# - draw_landmarks from module.mediapipe_utils\n",
    "# - extract_keypoints from module.mediapipe_utils\n",
    "# - setup_holistic_model from module.mediapipe_utils"
   ]
  },
  {
   "cell_type": "markdown",
   "id": "1a264c2b",
   "metadata": {},
   "source": [
    "## Keypoint Extraction\n",
    "\n",
    "We're using the keypoint extraction functionality from our `module.mediapipe_utils` module, which extracts useful data from MediaPipe detections for our model."
   ]
  },
  {
   "cell_type": "code",
   "execution_count": 4,
   "id": "426630d8",
   "metadata": {},
   "outputs": [],
   "source": [
    "# Using extract_keypoints from module.mediapipe_utils, which:\n",
    "# 1. Extracts pose landmarks (33 points with x, y, z, visibility)\n",
    "# 2. Extracts face landmarks (468 points with x, y, z)\n",
    "# 3. Extracts left hand landmarks (21 points with x, y, z) \n",
    "# 4. Extracts right hand landmarks (21 points with x, y, z)\n",
    "# 5. Concatenates all points into a single feature vector\n",
    "\n",
    "# This gives us a feature vector of length 1662:"
   ]
  },
  {
   "cell_type": "markdown",
   "id": "54d7f121",
   "metadata": {},
   "source": [
    "## Explore the Dataset\n",
    "\n",
    "Let's explore the available data to understand what we're working with."
   ]
  },
  {
   "cell_type": "code",
   "execution_count": 18,
   "id": "c5436772",
   "metadata": {},
   "outputs": [
    {
     "name": "stdout",
     "output_type": "stream",
     "text": [
      "Available signs: ['thanks', 'hello', 'whatsup', 'iloveyou']\n",
      "Number of sequences per sign: 30\n",
      "Frames per sequence: 3\n"
     ]
    }
   ],
   "source": [
    "# List the available signs in our dataset\n",
    "data_path = os.path.join('data')\n",
    "actions = os.listdir(data_path)\n",
    "# Remove any hidden files (like .DS_Store)\n",
    "actions = [action for action in actions if not action.startswith('.')]\n",
    "\n",
    "print(f\"Available signs: {actions}\")\n",
    "\n",
    "# Get some stats about the dataset\n",
    "sign_folders = os.listdir(os.path.join(data_path, actions[0]))\n",
    "num_sequences = len(sign_folders)\n",
    "sequence_length = len(os.listdir(os.path.join(data_path, actions[0], '0')))\n",
    "\n",
    "print(f\"Number of sequences per sign: {num_sequences}\")\n",
    "print(f\"Frames per sequence: {sequence_length}\")"
   ]
  },
  {
   "cell_type": "markdown",
   "id": "177d1a5c",
   "metadata": {},
   "source": [
    "## Load or Build the PyTorch Model\n",
    "\n",
    "We'll either load a pre-trained model from disk or build a new PyTorch model for sign language detection."
   ]
  },
  {
   "cell_type": "code",
   "execution_count": 5,
   "id": "e07b8b92",
   "metadata": {},
   "outputs": [
    {
     "name": "stdout",
     "output_type": "stream",
     "text": [
      "Model is using device: cpu\n"
     ]
    }
   ],
   "source": [
    "# # Check if we have a pre-trained model\n",
    "# try:\n",
    "#     model = torch.load('model/sign_language_model.pth')\n",
    "#     print(\"Loaded pre-trained model from disk.\")\n",
    "    \n",
    "#     # Get the list of actions from the saved model\n",
    "#     data_path = os.path.join('data')\n",
    "#     actions = os.listdir(data_path)\n",
    "#     # Remove any hidden files (like .DS_Store)\n",
    "#     actions = [action for action in actions if not action.startswith('.')]\n",
    "    \n",
    "# except:\n",
    "#     print(\"Building a new model...\")\n",
    "    \n",
    "#     # List the available signs in our dataset\n",
    "#     data_path = os.path.join('data')\n",
    "#     actions = os.listdir(data_path)\n",
    "#     # Remove any hidden files (like .DS_Store)\n",
    "#     actions = [action for action in actions if not action.startswith('.')]\n",
    "    \n",
    "#     # Define model parameters\n",
    "#     input_size = 1662  # Number of features in keypoints\n",
    "#     hidden_size = 64\n",
    "#     num_layers = 1\n",
    "#     num_classes = len(actions)\n",
    "    \n",
    "#     # Initialize model using our modular approach\n",
    "#     model = LSTM_Sign_Model(\n",
    "#         input_size=input_size, \n",
    "#         hidden_size=hidden_size, \n",
    "#         num_layers=num_layers, \n",
    "#         num_classes=num_classes\n",
    "#     )\n",
    "    \n",
    "#     # Create a directory for saving the model if it doesn't exist\n",
    "#     os.makedirs('model', exist_ok=True)\n",
    "    \n",
    "# If CUDA is available, move model to GPU\n",
    "device = torch.device(\"cuda\" if torch.cuda.is_available() else \"cpu\")\n",
    "# model.to(device)\n",
    "\n",
    "print(f\"Model is using device: {device}\")"
   ]
  },
  {
   "cell_type": "markdown",
   "id": "04612645",
   "metadata": {},
   "source": [
    "## Set Up Text-to-Speech Engine\n",
    "\n",
    "We'll use pyttsx3 for speech synthesis to convert detected signs to spoken words."
   ]
  },
  {
   "cell_type": "code",
   "execution_count": 10,
   "id": "ec7836f0",
   "metadata": {},
   "outputs": [],
   "source": [
    "# Initialize the text-to-speech engine\n",
    "engine = pyttsx3.init()\n",
    "\n",
    "def speak(text):\n",
    "    \"\"\"Convert text to speech.\"\"\"\n",
    "    engine.say(text)\n",
    "    engine.runAndWait()"
   ]
  },
  {
   "cell_type": "markdown",
   "id": "0755eed6",
   "metadata": {},
   "source": [
    "## Data Collection Function\n",
    "\n",
    "We'll use the modular function from `module.data_processing` to collect sign language data. This will help us build a custom dataset with our own gestures."
   ]
  },
  {
   "cell_type": "code",
   "execution_count": 29,
   "id": "d24f30a6",
   "metadata": {},
   "outputs": [],
   "source": [
    "# Note: We're using the modular implementation from module.data_processing\n",
    "# collect_sign_data(sign_name, holistic_model, num_sequences=30, sequence_length=30, camera_idx=0)"
   ]
  },
  {
   "cell_type": "markdown",
   "id": "d6a13292",
   "metadata": {},
   "source": [
    "## Use the Data Collection Function\n",
    "\n",
    "Run the cell below to collect data for a new sign. Follow these steps:\n",
    "1. Enter the name of the sign you want to collect data for (e.g., 'thankyou', 'yes', 'no')\n",
    "2. When the webcam starts, position yourself in front of the camera\n",
    "3. After the 5-second countdown, perform the sign at a natural pace\n",
    "4. Repeat for all sequences (default: 30)\n",
    "\n",
    "To ensure good data quality:\n",
    "- Maintain good lighting\n",
    "- Keep a consistent background\n",
    "- Try to perform the sign consistently each time\n",
    "- Vary your position slightly between sequences for better model generalization"
   ]
  },
  {
   "cell_type": "code",
   "execution_count": 3,
   "id": "28732692",
   "metadata": {},
   "outputs": [
    {
     "name": "stdout",
     "output_type": "stream",
     "text": [
      "\n",
      "Preparing to collect data for sign: 'hello'\n",
      "Position yourself in front of the camera.\n",
      "Press Enter to start...\n"
     ]
    },
    {
     "name": "stderr",
     "output_type": "stream",
     "text": [
      "WARNING: All log messages before absl::InitializeLog() is called are written to STDERR\n",
      "I0000 00:00:1744811731.161880 1349022 gl_context.cc:369] GL version: 2.1 (2.1 Metal - 89.4), renderer: Apple M1\n",
      "INFO: Created TensorFlow Lite XNNPACK delegate for CPU.\n",
      "W0000 00:00:1744811731.268412 2718229 inference_feedback_manager.cc:114] Feedback manager requires a model with a single signature inference. Disabling support for feedback tensors.\n",
      "W0000 00:00:1744811731.287018 2718227 inference_feedback_manager.cc:114] Feedback manager requires a model with a single signature inference. Disabling support for feedback tensors.\n",
      "W0000 00:00:1744811731.290139 2718234 inference_feedback_manager.cc:114] Feedback manager requires a model with a single signature inference. Disabling support for feedback tensors.\n",
      "W0000 00:00:1744811731.290853 2718231 inference_feedback_manager.cc:114] Feedback manager requires a model with a single signature inference. Disabling support for feedback tensors.\n",
      "W0000 00:00:1744811731.291234 2718233 inference_feedback_manager.cc:114] Feedback manager requires a model with a single signature inference. Disabling support for feedback tensors.\n",
      "W0000 00:00:1744811731.300941 2718234 inference_feedback_manager.cc:114] Feedback manager requires a model with a single signature inference. Disabling support for feedback tensors.\n",
      "W0000 00:00:1744811731.305081 2718233 inference_feedback_manager.cc:114] Feedback manager requires a model with a single signature inference. Disabling support for feedback tensors.\n",
      "W0000 00:00:1744811731.305605 2718231 inference_feedback_manager.cc:114] Feedback manager requires a model with a single signature inference. Disabling support for feedback tensors.\n",
      "2025-04-16 20:55:31.424 Python[44269:1349022] WARNING: AVCaptureDeviceTypeExternal is deprecated for Continuity Cameras. Please use AVCaptureDeviceTypeContinuityCamera and add NSCameraUseContinuityCameraDeviceType to your Info.plist.\n",
      "W0000 00:00:1744811737.892113 2718227 landmark_projection_calculator.cc:186] Using NORM_RECT without IMAGE_DIMENSIONS is only supported for the square ROI. Provide IMAGE_DIMENSIONS or use PROJECTION_MATRIX.\n"
     ]
    },
    {
     "name": "stdout",
     "output_type": "stream",
     "text": [
      "Sequence 1 complete. Prepare for next sequence...\n",
      "Sequence 2 complete. Prepare for next sequence...\n",
      "Sequence 3 complete. Prepare for next sequence...\n",
      "Sequence 4 complete. Prepare for next sequence...\n",
      "Sequence 5 complete. Prepare for next sequence...\n",
      "Sequence 6 complete. Prepare for next sequence...\n",
      "Sequence 7 complete. Prepare for next sequence...\n",
      "Sequence 8 complete. Prepare for next sequence...\n",
      "Sequence 9 complete. Prepare for next sequence...\n",
      "Sequence 10 complete. Prepare for next sequence...\n",
      "Sequence 11 complete. Prepare for next sequence...\n",
      "Sequence 12 complete. Prepare for next sequence...\n",
      "Sequence 13 complete. Prepare for next sequence...\n",
      "Sequence 14 complete. Prepare for next sequence...\n",
      "Sequence 15 complete. Prepare for next sequence...\n",
      "Sequence 16 complete. Prepare for next sequence...\n",
      "Sequence 17 complete. Prepare for next sequence...\n",
      "Sequence 18 complete. Prepare for next sequence...\n",
      "Sequence 19 complete. Prepare for next sequence...\n",
      "Sequence 20 complete. Prepare for next sequence...\n",
      "Sequence 21 complete. Prepare for next sequence...\n",
      "Sequence 22 complete. Prepare for next sequence...\n",
      "Sequence 23 complete. Prepare for next sequence...\n",
      "Sequence 24 complete. Prepare for next sequence...\n",
      "Sequence 25 complete. Prepare for next sequence...\n",
      "Sequence 26 complete. Prepare for next sequence...\n",
      "Sequence 27 complete. Prepare for next sequence...\n",
      "Sequence 28 complete. Prepare for next sequence...\n",
      "Sequence 29 complete. Prepare for next sequence...\n",
      "Data collection for sign 'hello' complete!\n",
      "Collected 30 sequences with 30 frames each.\n",
      "Data saved in /Users/mandev/Workspace/UNI/ChuyenNganh/data/hello\n",
      "Updated available signs: ['hello']\n"
     ]
    }
   ],
   "source": [
    "# Run this cell to collect data for a new sign\n",
    "new_sign = input(\"Enter the name of the sign you want to collect data for: \")\n",
    "num_seq = int(input(\"Enter the number of sequences to collect (default: 30): \") or 30)\n",
    "seq_length = int(input(\"Enter the number of frames per sequence (default: 30): \") or 30)\n",
    "\n",
    "print(f\"\\nPreparing to collect data for sign: '{new_sign}'\")\n",
    "print(\"Position yourself in front of the camera.\")\n",
    "print(\"Press Enter to start...\")\n",
    "input()\n",
    "\n",
    "# Create holistic model for data collection\n",
    "with setup_holistic_model() as holistic:\n",
    "    collect_sign_data(new_sign, holistic, num_seq, seq_length, 2)\n",
    "\n",
    "# Update the actions list\n",
    "if os.path.exists('data'):\n",
    "    actions = [action for action in os.listdir('data') if not action.startswith('.')]\n",
    "    print(f\"Updated available signs: {actions}\")"
   ]
  },
  {
   "cell_type": "markdown",
   "id": "be93197a",
   "metadata": {},
   "source": [
    "## Train with Separate Training and Testing Data\n",
    "\n",
    "If you have separate datasets for training and testing, you can use the following function to train your model using both datasets."
   ]
  },
  {
   "cell_type": "code",
   "execution_count": 6,
   "id": "789c5d5b",
   "metadata": {},
   "outputs": [
    {
     "name": "stdout",
     "output_type": "stream",
     "text": [
      "Data organized into data_train and data_test directories\n",
      "Training data: 70%, Testing data: 30%\n"
     ]
    }
   ],
   "source": [
    "import sys\n",
    "sys.path.append('./module')\n",
    "from module.mediapipe_utils import setup_holistic_model\n",
    "from module.data_processing import collect_sign_data, organize_data_for_testing, create_separate_dataloaders, create_dataloaders\n",
    "from module.model_utils import train, save_model, plot_loss_curves\n",
    "from module.realtime_asl import ASLDetector\n",
    "from module.sign_model_builder import LSTM_Sign_Model\n",
    "organize_data_for_testing(train_split=0.7)"
   ]
  },
  {
   "cell_type": "code",
   "execution_count": 7,
   "id": "d2ce136a",
   "metadata": {},
   "outputs": [
    {
     "name": "stdout",
     "output_type": "stream",
     "text": [
      "Train dataloader length: 1\n",
      "Test dataloader length: 1\n",
      "Train batch 0: data shape = torch.Size([26, 30, 1662]), target shape = torch.Size([26])\n",
      "Test batch 0: data shape = torch.Size([14, 30, 1662]), target shape = torch.Size([14])\n"
     ]
    }
   ],
   "source": [
    "# Create new dataloaders with our fixed implementation\n",
    "train_dir = \"data_train\"\n",
    "test_dir = \"data_test\"\n",
    "BATCH_SIZE = 32\n",
    "\n",
    "train_dataloader, test_dataloader, class_names = create_dataloaders(\n",
    "    train_dir=train_dir,\n",
    "    test_dir=test_dir,\n",
    "    batch_size=BATCH_SIZE,\n",
    ")\n",
    "\n",
    "# Check if dataloaders are empty or have issues\n",
    "print(f\"Train dataloader length: {len(train_dataloader)}\")\n",
    "print(f\"Test dataloader length: {len(test_dataloader)}\")\n",
    "\n",
    "# Check first batch in each dataloader\n",
    "for batch_idx, (data, target) in enumerate(train_dataloader):\n",
    "    print(f\"Train batch {batch_idx}: data shape = {data.shape}, target shape = {target.shape}\")\n",
    "    break  # Just check the first batch\n",
    "    \n",
    "for batch_idx, (data, target) in enumerate(test_dataloader):\n",
    "    print(f\"Test batch {batch_idx}: data shape = {data.shape}, target shape = {target.shape}\")\n",
    "    break  # Just check the first batch\n",
    "    \n",
    "# Update the model for the correct number of classes\n",
    "NUM_EPOCHS = 5\n",
    "HIDDEN_UNITS = 10\n",
    "LEARNING_RATE = 0.001\n",
    "INPUT_SIZE = 1662\n",
    "\n",
    "# Initialize model using our modular structure\n",
    "model = LSTM_Sign_Model(\n",
    "    input_size=INPUT_SIZE, \n",
    "    hidden_size=HIDDEN_UNITS,\n",
    "    num_layers=1,  # Setting num_layers to 1 instead of NUM_EPOCHS which was incorrect\n",
    "    num_classes=len(class_names) \n",
    ")\n",
    "        \n",
    "# Make sure model is on the right device\n",
    "device = torch.device(\"cuda\" if torch.cuda.is_available() else \"cpu\")\n",
    "model.to(device)\n",
    "\n",
    "# Set loss function and optimizer\n",
    "criterion = torch.nn.CrossEntropyLoss()\n",
    "optimizer = torch.optim.Adam(model.parameters(), lr=LEARNING_RATE)"
   ]
  },
  {
   "cell_type": "code",
   "execution_count": 8,
   "id": "33e61d24",
   "metadata": {},
   "outputs": [
    {
     "name": "stderr",
     "output_type": "stream",
     "text": [
      " 60%|██████    | 3/5 [00:00<00:00, 11.92it/s]"
     ]
    },
    {
     "name": "stdout",
     "output_type": "stream",
     "text": [
      "Epoch: 1 | train_loss: 0.0000 | train_acc: 1.0000 | test_loss: 0.0000 | test_acc: 1.0000\n",
      "Epoch: 2 | train_loss: 0.0000 | train_acc: 1.0000 | test_loss: 0.0000 | test_acc: 1.0000\n",
      "Epoch: 3 | train_loss: 0.0000 | train_acc: 1.0000 | test_loss: 0.0000 | test_acc: 1.0000\n"
     ]
    },
    {
     "name": "stderr",
     "output_type": "stream",
     "text": [
      "100%|██████████| 5/5 [00:00<00:00, 12.06it/s]\n"
     ]
    },
    {
     "name": "stdout",
     "output_type": "stream",
     "text": [
      "Epoch: 4 | train_loss: 0.0000 | train_acc: 1.0000 | test_loss: 0.0000 | test_acc: 1.0000\n",
      "Epoch: 5 | train_loss: 0.0000 | train_acc: 1.0000 | test_loss: 0.0000 | test_acc: 1.0000\n",
      "Model saved as 'model/sign_language_model.pth'\n"
     ]
    },
    {
     "data": {
      "image/png": "[encoded data removed]",
      "text/plain": [
       "<Figure size 1000x1000 with 2 Axes>"
      ]
     },
     "metadata": {},
     "output_type": "display_data"
    }
   ],
   "source": [
    "# Train the model with the corrected function call\n",
    "results = train(\n",
    "    model=model,\n",
    "    train_dataloader=train_dataloader,\n",
    "    test_dataloader=test_dataloader,\n",
    "    loss_fn=criterion,\n",
    "    optimizer=optimizer,\n",
    "    epochs=NUM_EPOCHS,\n",
    "    device=device\n",
    ") \n",
    "\n",
    "# Save the model\n",
    "save_model(\n",
    "    model=model,\n",
    "    path='model/sign_language_model.pth',\n",
    ")\n",
    "\n",
    "\n",
    "# Plot loss curves\n",
    "plot_loss_curves(results)\n"
   ]
  },
  {
   "cell_type": "markdown",
   "id": "191e6284",
   "metadata": {},
   "source": [
    "## Real-Time Detection with PyTorch\n",
    "\n",
    "Now, let's implement the real-time detection using our PyTorch model and the modular ASLDetector class."
   ]
  },
  {
   "cell_type": "code",
   "execution_count": null,
   "id": "46be856e",
   "metadata": {},
   "outputs": [
    {
     "name": "stdout",
     "output_type": "stream",
     "text": [
      "Model loaded with weights_only=False for backward compatibility\n",
      "Loaded model from model/sign_language_model.pth\n",
      "Detected actions: ['hello']\n"
     ]
    },
    {
     "name": "stderr",
     "output_type": "stream",
     "text": [
      "I0000 00:00:1744812434.703586 1349022 gl_context.cc:369] GL version: 2.1 (2.1 Metal - 89.4), renderer: Apple M1\n",
      "W0000 00:00:1744812434.781159 2735331 inference_feedback_manager.cc:114] Feedback manager requires a model with a single signature inference. Disabling support for feedback tensors.\n",
      "W0000 00:00:1744812434.793868 2735331 inference_feedback_manager.cc:114] Feedback manager requires a model with a single signature inference. Disabling support for feedback tensors.\n",
      "W0000 00:00:1744812434.796884 2735335 inference_feedback_manager.cc:114] Feedback manager requires a model with a single signature inference. Disabling support for feedback tensors.\n",
      "W0000 00:00:1744812434.797053 2735336 inference_feedback_manager.cc:114] Feedback manager requires a model with a single signature inference. Disabling support for feedback tensors.\n",
      "W0000 00:00:1744812434.798564 2735332 inference_feedback_manager.cc:114] Feedback manager requires a model with a single signature inference. Disabling support for feedback tensors.\n",
      "W0000 00:00:1744812434.803195 2735336 inference_feedback_manager.cc:114] Feedback manager requires a model with a single signature inference. Disabling support for feedback tensors.\n",
      "W0000 00:00:1744812434.804453 2735335 inference_feedback_manager.cc:114] Feedback manager requires a model with a single signature inference. Disabling support for feedback tensors.\n",
      "W0000 00:00:1744812434.806209 2735333 inference_feedback_manager.cc:114] Feedback manager requires a model with a single signature inference. Disabling support for feedback tensors.\n"
     ]
    },
    {
     "ename": "KeyboardInterrupt",
     "evalue": "",
     "output_type": "error",
     "traceback": [
      "\u001b[0;31m---------------------------------------------------------------------------\u001b[0m\n",
      "\u001b[0;31mKeyboardInterrupt\u001b[0m                         Traceback (most recent call last)\n",
      "Cell \u001b[0;32mIn[12], line 8\u001b[0m\n",
      "\u001b[1;32m      2\u001b[0m detector \u001b[38;5;241m=\u001b[39m ASLDetector(model_path\u001b[38;5;241m=\u001b[39m\u001b[38;5;124m'\u001b[39m\u001b[38;5;124mmodel/sign_language_model.pth\u001b[39m\u001b[38;5;124m'\u001b[39m, \n",
      "\u001b[1;32m      3\u001b[0m                       threshold\u001b[38;5;241m=\u001b[39m\u001b[38;5;241m0.7\u001b[39m,\n",
      "\u001b[1;32m      4\u001b[0m                       sequence_length\u001b[38;5;241m=\u001b[39m\u001b[38;5;241m30\u001b[39m, \n",
      "\u001b[1;32m      5\u001b[0m                       device\u001b[38;5;241m=\u001b[39mdevice)\n",
      "\u001b[1;32m      7\u001b[0m \u001b[38;5;66;03m# Start real-time detection\u001b[39;00m\n",
      "\u001b[0;32m----> 8\u001b[0m \u001b[43mdetector\u001b[49m\u001b[38;5;241;43m.\u001b[39;49m\u001b[43mdetect_in_realtime\u001b[49m\u001b[43m(\u001b[49m\u001b[43mcamera_idx\u001b[49m\u001b[38;5;241;43m=\u001b[39;49m\u001b[38;5;241;43m2\u001b[39;49m\u001b[43m)\u001b[49m\n",
      "\n",
      "File \u001b[0;32m~/Workspace/UNI/ChuyenNganh/module/realtime_asl.py:179\u001b[0m, in \u001b[0;36mASLDetector.detect_in_realtime\u001b[0;34m(self, camera_idx)\u001b[0m\n",
      "\u001b[1;32m    176\u001b[0m     cv2\u001b[38;5;241m.\u001b[39mimshow(\u001b[38;5;124m'\u001b[39m\u001b[38;5;124mASL Detection\u001b[39m\u001b[38;5;124m'\u001b[39m, image)\n",
      "\u001b[1;32m    178\u001b[0m     \u001b[38;5;66;03m# Break the loop if 'q' is pressed\u001b[39;00m\n",
      "\u001b[0;32m--> 179\u001b[0m     \u001b[38;5;28;01mif\u001b[39;00m \u001b[43mcv2\u001b[49m\u001b[38;5;241;43m.\u001b[39;49m\u001b[43mwaitKey\u001b[49m\u001b[43m(\u001b[49m\u001b[38;5;241;43m10\u001b[39;49m\u001b[43m)\u001b[49m \u001b[38;5;241m&\u001b[39m \u001b[38;5;241m0xFF\u001b[39m \u001b[38;5;241m==\u001b[39m \u001b[38;5;28mord\u001b[39m(\u001b[38;5;124m'\u001b[39m\u001b[38;5;124mq\u001b[39m\u001b[38;5;124m'\u001b[39m):\n",
      "\u001b[1;32m    180\u001b[0m         \u001b[38;5;28;01mbreak\u001b[39;00m\n",
      "\u001b[1;32m    182\u001b[0m cap\u001b[38;5;241m.\u001b[39mrelease()\n",
      "\n",
      "\u001b[0;31mKeyboardInterrupt\u001b[0m: "
     ]
    }
   ],
   "source": [
    "# Create a detector instance using our modular implementation\n",
    "detector = ASLDetector(model_path='model/sign_language_model.pth', \n",
    "                      threshold=0.7,\n",
    "                      sequence_length=30, \n",
    "                      device=device)\n",
    "\n",
    "# Start real-time detection\n",
    "detector.detect_in_realtime(camera_idx=2)"
   ]
  },
  {
   "cell_type": "markdown",
   "id": "f7c3351e",
   "metadata": {},
   "source": [
    "## Future Improvements\n",
    "\n",
    "Here are some potential improvements for the application:\n",
    "\n",
    "1. **Sentence Formation**: Implement grammar rules to form proper sentences from detected signs.\n",
    "2. **Continuous Sign Language Recognition**: Improve the model to handle continuous signing.\n",
    "3. **User Interface**: Create a more user-friendly interface with settings for sensitivity and speech voice.\n",
    "4. **Mobile Application**: Convert the system to a mobile application for wider accessibility.\n",
    "5. **Expanded Vocabulary**: Train the model on a larger dataset to recognize more signs.\n",
    "6. **Two-Way Translation**: Add speech-to-sign functionality for two-way communication."
   ]
  },
  {
   "cell_type": "markdown",
   "id": "c97a01e7",
   "metadata": {},
   "source": [
    "## Conclusion\n",
    "\n",
    "This notebook demonstrates a real-time American Sign Language detection and speech synthesis system. The application uses:\n",
    "\n",
    "1. MediaPipe for hand tracking and landmark detection\n",
    "2. PyTorch for sign classification using an LSTM model\n",
    "3. OpenCV for video capture and visualization\n",
    "4. pyttsx3 for text-to-speech conversion\n",
    "\n",
    "The system can detect Word-Level ASL signs and convert them to speech in real-time, providing a valuable tool for sign language communication."
   ]
  }
 ],
 "metadata": {
  "kernelspec": {
   "display_name": "venv (3.10.16)",
   "language": "python",
   "name": "python3"
  },
  "language_info": {
   "codemirror_mode": {
    "name": "ipython",
    "version": 3
   },
   "file_extension": ".py",
   "mimetype": "text/x-python",
   "name": "python",
   "nbconvert_exporter": "python",
   "pygments_lexer": "ipython3",
   "version": "3.10.16"
  }
 },
 "nbformat": 4,
 "nbformat_minor": 5
}
