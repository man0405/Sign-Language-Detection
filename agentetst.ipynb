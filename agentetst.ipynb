{
 "cells": [
  {
   "cell_type": "markdown",
   "id": "e947f9c2",
   "metadata": {},
   "source": [
    "# Real-Time American Sign Language Detection and Speech Synthesis\n",
    "\n",
    "This notebook implements a real-time Word-Level American Sign Language detection system with speech output. The system will:\n",
    "\n",
    "1. Capture video input from the webcam\n",
    "2. Detect hand gestures and classify them as ASL signs\n",
    "3. Convert recognized signs to text\n",
    "4. Synthesize speech from the recognized text\n",
    "\n",
    "This implementation uses a modular approach with code organized into the following modules:\n",
    "\n",
    "- `mediapipe_utils.py`: MediaPipe detection and landmark utilities\n",
    "- `data_processing.py`: Dataset creation and handling\n",
    "- `model_utils.py`: Model training and evaluation\n",
    "- `realtime_asl.py`: Real-time detection functionality\n",
    "- `sign_model_builder.py`: LSTM model architecture\n",
    "\n",
    "Let's get started by installing the necessary dependencies."
   ]
  },
  {
   "cell_type": "code",
   "execution_count": null,
   "id": "f15e8d02",
   "metadata": {},
   "outputs": [],
   "source": [
    "# Install required packages if they are not already installed\n",
    "!pip install opencv-python mediapipe torch torchvision numpy pyttsx3 matplotlib tqdm"
   ]
  },
  {
   "cell_type": "markdown",
   "id": "1b8427e7",
   "metadata": {},
   "source": [
    "## Import Libraries\n",
    "\n",
    "We'll import the necessary libraries and modules for our application."
   ]
  },
  {
   "cell_type": "code",
   "execution_count": null,
   "id": "84732aa3",
   "metadata": {},
   "outputs": [],
   "source": [
    "\n",
    "import mediapipe as mp\n",
    "import os\n",
    "import pyttsx3\n",
    "import torch\n",
    "from module.helper_functions import plot_loss_curves\n",
    "\n",
    "# Import our modular components\n",
    "import sys\n",
    "sys.path.append('./module')\n",
    "from module.mediapipe_utils import setup_holistic_model\n",
    "from module.data_processing import collect_sign_data, organize_data_for_testing, create_separate_dataloaders\n",
    "from module.model_utils import train, save_model\n",
    "from module.realtime_asl import ASLDetector\n",
    "from module.sign_model_builder import LSTM_Sign_Model\n",
    "\n",
    "# Initialize MediaPipe solutions (for backward compatibility with existing code)\n",
    "mp_holistic = mp.solutions.holistic"
   ]
  },
  {
   "cell_type": "markdown",
   "id": "f1761cb6",
   "metadata": {},
   "source": [
    "## MediaPipe Setup\n",
    "\n",
    "We're using the modular implementation from `mediapipe_utils.py` for hand tracking and landmark detection."
   ]
  },
  {
   "cell_type": "code",
   "execution_count": 17,
   "id": "a5c29fd6",
   "metadata": {},
   "outputs": [],
   "source": [
    "# Initialize MediaPipe solutions for visualization if needed\n",
    "mp_holistic = mp.solutions.holistic\n",
    "mp_drawing = mp.solutions.drawing_utils\n",
    "\n",
    "# We're using the modular implementation for these functions:\n",
    "# - mediapipe_detection from module.mediapipe_utils\n",
    "# - draw_landmarks from module.mediapipe_utils\n",
    "# - extract_keypoints from module.mediapipe_utils\n",
    "# - setup_holistic_model from module.mediapipe_utils"
   ]
  },
  {
   "cell_type": "markdown",
   "id": "1a264c2b",
   "metadata": {},
   "source": [
    "## Keypoint Extraction\n",
    "\n",
    "We're using the keypoint extraction functionality from our `module.mediapipe_utils` module, which extracts useful data from MediaPipe detections for our model."
   ]
  },
  {
   "cell_type": "code",
   "execution_count": 4,
   "id": "426630d8",
   "metadata": {},
   "outputs": [],
   "source": [
    "# Using extract_keypoints from module.mediapipe_utils, which:\n",
    "# 1. Extracts pose landmarks (33 points with x, y, z, visibility)\n",
    "# 2. Extracts face landmarks (468 points with x, y, z)\n",
    "# 3. Extracts left hand landmarks (21 points with x, y, z) \n",
    "# 4. Extracts right hand landmarks (21 points with x, y, z)\n",
    "# 5. Concatenates all points into a single feature vector\n",
    "\n",
    "# This gives us a feature vector of length 1662:"
   ]
  },
  {
   "cell_type": "markdown",
   "id": "54d7f121",
   "metadata": {},
   "source": [
    "## Explore the Dataset\n",
    "\n",
    "Let's explore the available data to understand what we're working with."
   ]
  },
  {
   "cell_type": "code",
   "execution_count": 18,
   "id": "c5436772",
   "metadata": {},
   "outputs": [
    {
     "name": "stdout",
     "output_type": "stream",
     "text": [
      "Available signs: ['thanks', 'hello', 'whatsup', 'iloveyou']\n",
      "Number of sequences per sign: 30\n",
      "Frames per sequence: 3\n"
     ]
    }
   ],
   "source": [
    "# List the available signs in our dataset\n",
    "data_path = os.path.join('data')\n",
    "actions = os.listdir(data_path)\n",
    "# Remove any hidden files (like .DS_Store)\n",
    "actions = [action for action in actions if not action.startswith('.')]\n",
    "\n",
    "print(f\"Available signs: {actions}\")\n",
    "\n",
    "# Get some stats about the dataset\n",
    "sign_folders = os.listdir(os.path.join(data_path, actions[0]))\n",
    "num_sequences = len(sign_folders)\n",
    "sequence_length = len(os.listdir(os.path.join(data_path, actions[0], '0')))\n",
    "\n",
    "print(f\"Number of sequences per sign: {num_sequences}\")\n",
    "print(f\"Frames per sequence: {sequence_length}\")"
   ]
  },
  {
   "cell_type": "markdown",
   "id": "177d1a5c",
   "metadata": {},
   "source": [
    "## Load or Build the PyTorch Model\n",
    "\n",
    "We'll either load a pre-trained model from disk or build a new PyTorch model for sign language detection."
   ]
  },
  {
   "cell_type": "code",
   "execution_count": 5,
   "id": "e07b8b92",
   "metadata": {},
   "outputs": [
    {
     "name": "stdout",
     "output_type": "stream",
     "text": [
      "Model is using device: cpu\n"
     ]
    }
   ],
   "source": [
    "# # Check if we have a pre-trained model\n",
    "# try:\n",
    "#     model = torch.load('model/sign_language_model.pth')\n",
    "#     print(\"Loaded pre-trained model from disk.\")\n",
    "    \n",
    "#     # Get the list of actions from the saved model\n",
    "#     data_path = os.path.join('data')\n",
    "#     actions = os.listdir(data_path)\n",
    "#     # Remove any hidden files (like .DS_Store)\n",
    "#     actions = [action for action in actions if not action.startswith('.')]\n",
    "    \n",
    "# except:\n",
    "#     print(\"Building a new model...\")\n",
    "    \n",
    "#     # List the available signs in our dataset\n",
    "#     data_path = os.path.join('data')\n",
    "#     actions = os.listdir(data_path)\n",
    "#     # Remove any hidden files (like .DS_Store)\n",
    "#     actions = [action for action in actions if not action.startswith('.')]\n",
    "    \n",
    "#     # Define model parameters\n",
    "#     input_size = 1662  # Number of features in keypoints\n",
    "#     hidden_size = 64\n",
    "#     num_layers = 1\n",
    "#     num_classes = len(actions)\n",
    "    \n",
    "#     # Initialize model using our modular approach\n",
    "#     model = LSTM_Sign_Model(\n",
    "#         input_size=input_size, \n",
    "#         hidden_size=hidden_size, \n",
    "#         num_layers=num_layers, \n",
    "#         num_classes=num_classes\n",
    "#     )\n",
    "    \n",
    "#     # Create a directory for saving the model if it doesn't exist\n",
    "#     os.makedirs('model', exist_ok=True)\n",
    "    \n",
    "# If CUDA is available, move model to GPU\n",
    "device = torch.device(\"cuda\" if torch.cuda.is_available() else \"cpu\")\n",
    "# model.to(device)\n",
    "\n",
    "print(f\"Model is using device: {device}\")"
   ]
  },
  {
   "cell_type": "markdown",
   "id": "04612645",
   "metadata": {},
   "source": [
    "## Set Up Text-to-Speech Engine\n",
    "\n",
    "We'll use pyttsx3 for speech synthesis to convert detected signs to spoken words."
   ]
  },
  {
   "cell_type": "code",
   "execution_count": 10,
   "id": "ec7836f0",
   "metadata": {},
   "outputs": [],
   "source": [
    "# Initialize the text-to-speech engine\n",
    "engine = pyttsx3.init()\n",
    "\n",
    "def speak(text):\n",
    "    \"\"\"Convert text to speech.\"\"\"\n",
    "    engine.say(text)\n",
    "    engine.runAndWait()"
   ]
  },
  {
   "cell_type": "markdown",
   "id": "b6a93abf",
   "metadata": {},
   "source": [
    "## Real-Time Detection with PyTorch\n",
    "\n",
    "Now, let's implement the real-time detection using our PyTorch model and the modular ASLDetector class."
   ]
  },
  {
   "cell_type": "code",
   "execution_count": 20,
   "id": "aa1cb68d",
   "metadata": {},
   "outputs": [
    {
     "ename": "NameError",
     "evalue": "name 'ASLDetector' is not defined",
     "output_type": "error",
     "traceback": [
      "\u001b[0;31m---------------------------------------------------------------------------\u001b[0m",
      "\u001b[0;31mNameError\u001b[0m                                 Traceback (most recent call last)",
      "Cell \u001b[0;32mIn[20], line 2\u001b[0m\n\u001b[1;32m      1\u001b[0m \u001b[38;5;66;03m# Create a detector instance using our modular implementation\u001b[39;00m\n\u001b[0;32m----> 2\u001b[0m detector \u001b[38;5;241m=\u001b[39m \u001b[43mASLDetector\u001b[49m(model_path\u001b[38;5;241m=\u001b[39m\u001b[38;5;124m'\u001b[39m\u001b[38;5;124mmodel/sign_language_model.pth\u001b[39m\u001b[38;5;124m'\u001b[39m, \n\u001b[1;32m      3\u001b[0m                       threshold\u001b[38;5;241m=\u001b[39m\u001b[38;5;241m0.7\u001b[39m,\n\u001b[1;32m      4\u001b[0m                       sequence_length\u001b[38;5;241m=\u001b[39m\u001b[38;5;241m30\u001b[39m, \n\u001b[1;32m      5\u001b[0m                       device\u001b[38;5;241m=\u001b[39mdevice)\n\u001b[1;32m      7\u001b[0m \u001b[38;5;66;03m# Start real-time detection\u001b[39;00m\n\u001b[1;32m      8\u001b[0m detector\u001b[38;5;241m.\u001b[39mdetect_in_realtime(camera_idx\u001b[38;5;241m=\u001b[39m\u001b[38;5;241m0\u001b[39m)\n",
      "\u001b[0;31mNameError\u001b[0m: name 'ASLDetector' is not defined"
     ]
    }
   ],
   "source": [
    "# Create a detector instance using our modular implementation\n",
    "detector = ASLDetector(model_path='model/sign_language_model.pth', \n",
    "                      threshold=0.7,\n",
    "                      sequence_length=30, \n",
    "                      device=device)\n",
    "\n",
    "# Start real-time detection\n",
    "detector.detect_in_realtime(camera_idx=0)"
   ]
  },
  {
   "cell_type": "markdown",
   "id": "0755eed6",
   "metadata": {},
   "source": [
    "## Data Collection Function\n",
    "\n",
    "We'll use the modular function from `module.data_processing` to collect sign language data. This will help us build a custom dataset with our own gestures."
   ]
  },
  {
   "cell_type": "code",
   "execution_count": 29,
   "id": "d24f30a6",
   "metadata": {},
   "outputs": [],
   "source": [
    "# Note: We're using the modular implementation from module.data_processing\n",
    "# collect_sign_data(sign_name, holistic_model, num_sequences=30, sequence_length=30, camera_idx=0)"
   ]
  },
  {
   "cell_type": "markdown",
   "id": "d6a13292",
   "metadata": {},
   "source": [
    "## Use the Data Collection Function\n",
    "\n",
    "Run the cell below to collect data for a new sign. Follow these steps:\n",
    "1. Enter the name of the sign you want to collect data for (e.g., 'thankyou', 'yes', 'no')\n",
    "2. When the webcam starts, position yourself in front of the camera\n",
    "3. After the 5-second countdown, perform the sign at a natural pace\n",
    "4. Repeat for all sequences (default: 30)\n",
    "\n",
    "To ensure good data quality:\n",
    "- Maintain good lighting\n",
    "- Keep a consistent background\n",
    "- Try to perform the sign consistently each time\n",
    "- Vary your position slightly between sequences for better model generalization"
   ]
  },
  {
   "cell_type": "code",
   "execution_count": 23,
   "id": "28732692",
   "metadata": {},
   "outputs": [
    {
     "name": "stdout",
     "output_type": "stream",
     "text": [
      "\n",
      "Preparing to collect data for sign: 'man'\n",
      "Position yourself in front of the camera.\n",
      "Press Enter to start...\n"
     ]
    },
    {
     "name": "stderr",
     "output_type": "stream",
     "text": [
      "I0000 00:00:1744794392.282842 2056574 gl_context.cc:369] GL version: 2.1 (2.1 Metal - 89.4), renderer: Apple M1\n",
      "W0000 00:00:1744794392.392479 2265535 inference_feedback_manager.cc:114] Feedback manager requires a model with a single signature inference. Disabling support for feedback tensors.\n",
      "W0000 00:00:1744794392.412116 2265536 inference_feedback_manager.cc:114] Feedback manager requires a model with a single signature inference. Disabling support for feedback tensors.\n",
      "W0000 00:00:1744794392.418453 2265538 inference_feedback_manager.cc:114] Feedback manager requires a model with a single signature inference. Disabling support for feedback tensors.\n",
      "W0000 00:00:1744794392.420651 2265539 inference_feedback_manager.cc:114] Feedback manager requires a model with a single signature inference. Disabling support for feedback tensors.\n",
      "W0000 00:00:1744794392.422387 2265533 inference_feedback_manager.cc:114] Feedback manager requires a model with a single signature inference. Disabling support for feedback tensors.\n",
      "W0000 00:00:1744794392.438955 2265533 inference_feedback_manager.cc:114] Feedback manager requires a model with a single signature inference. Disabling support for feedback tensors.\n",
      "W0000 00:00:1744794392.450312 2265539 inference_feedback_manager.cc:114] Feedback manager requires a model with a single signature inference. Disabling support for feedback tensors.\n",
      "W0000 00:00:1744794392.454752 2265538 inference_feedback_manager.cc:114] Feedback manager requires a model with a single signature inference. Disabling support for feedback tensors.\n"
     ]
    },
    {
     "ename": "KeyboardInterrupt",
     "evalue": "",
     "output_type": "error",
     "traceback": [
      "\u001b[0;31m---------------------------------------------------------------------------\u001b[0m",
      "\u001b[0;31mKeyboardInterrupt\u001b[0m                         Traceback (most recent call last)",
      "Cell \u001b[0;32mIn[23], line 13\u001b[0m\n\u001b[1;32m     11\u001b[0m \u001b[38;5;66;03m# Create holistic model for data collection\u001b[39;00m\n\u001b[1;32m     12\u001b[0m \u001b[38;5;28;01mwith\u001b[39;00m setup_holistic_model() \u001b[38;5;28;01mas\u001b[39;00m holistic:\n\u001b[0;32m---> 13\u001b[0m     \u001b[43mcollect_sign_data\u001b[49m\u001b[43m(\u001b[49m\u001b[43mnew_sign\u001b[49m\u001b[43m,\u001b[49m\u001b[43m \u001b[49m\u001b[43mholistic\u001b[49m\u001b[43m,\u001b[49m\u001b[43m \u001b[49m\u001b[43mnum_seq\u001b[49m\u001b[43m,\u001b[49m\u001b[43m \u001b[49m\u001b[43mseq_length\u001b[49m\u001b[43m)\u001b[49m\n\u001b[1;32m     15\u001b[0m \u001b[38;5;66;03m# Update the actions list\u001b[39;00m\n\u001b[1;32m     16\u001b[0m \u001b[38;5;28;01mif\u001b[39;00m os\u001b[38;5;241m.\u001b[39mpath\u001b[38;5;241m.\u001b[39mexists(\u001b[38;5;124m'\u001b[39m\u001b[38;5;124mdata\u001b[39m\u001b[38;5;124m'\u001b[39m):\n",
      "File \u001b[0;32m~/Workspace/UNI/ChuyenNganh/module/data_processing.py:119\u001b[0m, in \u001b[0;36mcollect_sign_data\u001b[0;34m(sign_name, holistic_model, num_sequences, sequence_length, camera_idx)\u001b[0m\n\u001b[1;32m    116\u001b[0m     cv2\u001b[38;5;241m.\u001b[39mwaitKey(\u001b[38;5;241m5000\u001b[39m)\n\u001b[1;32m    117\u001b[0m \u001b[38;5;28;01melse\u001b[39;00m:\n\u001b[1;32m    118\u001b[0m     \u001b[38;5;66;03m# Small delay between frames\u001b[39;00m\n\u001b[0;32m--> 119\u001b[0m     \u001b[43mcv2\u001b[49m\u001b[38;5;241;43m.\u001b[39;49m\u001b[43mwaitKey\u001b[49m\u001b[43m(\u001b[49m\u001b[38;5;241;43m100\u001b[39;49m\u001b[43m)\u001b[49m\n\u001b[1;32m    121\u001b[0m \u001b[38;5;66;03m# Extract keypoints and save\u001b[39;00m\n\u001b[1;32m    122\u001b[0m keypoints \u001b[38;5;241m=\u001b[39m extract_keypoints(results)\n",
      "\u001b[0;31mKeyboardInterrupt\u001b[0m: "
     ]
    }
   ],
   "source": [
    "# Run this cell to collect data for a new sign\n",
    "new_sign = input(\"Enter the name of the sign you want to collect data for: \")\n",
    "num_seq = int(input(\"Enter the number of sequences to collect (default: 30): \") or 30)\n",
    "seq_length = int(input(\"Enter the number of frames per sequence (default: 30): \") or 30)\n",
    "\n",
    "print(f\"\\nPreparing to collect data for sign: '{new_sign}'\")\n",
    "print(\"Position yourself in front of the camera.\")\n",
    "print(\"Press Enter to start...\")\n",
    "input()\n",
    "\n",
    "# Create holistic model for data collection\n",
    "with setup_holistic_model() as holistic:\n",
    "    collect_sign_data(new_sign, holistic, num_seq, seq_length)\n",
    "\n",
    "# Update the actions list\n",
    "if os.path.exists('data'):\n",
    "    actions = [action for action in os.listdir('data') if not action.startswith('.')]\n",
    "    print(f\"Updated available signs: {actions}\")"
   ]
  },
  {
   "cell_type": "markdown",
   "id": "be93197a",
   "metadata": {},
   "source": [
    "## Train with Separate Training and Testing Data\n",
    "\n",
    "If you have separate datasets for training and testing, you can use the following function to train your model using both datasets."
   ]
  },
  {
   "cell_type": "code",
   "execution_count": 14,
   "id": "c10c2b01",
   "metadata": {},
   "outputs": [
    {
     "name": "stdout",
     "output_type": "stream",
     "text": [
      "Data organized into data_train and data_test directories\n",
      "Training data: 70%, Testing data: 30%\n"
     ]
    }
   ],
   "source": [
    "# Run this cell to organize your data\n",
    "\n",
    "organize_data_for_testing(train_split=0.7)"
   ]
  },
  {
   "cell_type": "code",
   "execution_count": 12,
   "id": "49b5f280",
   "metadata": {},
   "outputs": [
    {
     "name": "stdout",
     "output_type": "stream",
     "text": [
      "Created dataloaders with 5 classes: ['man', 'thanks', 'hello', 'whatsup', 'iloveyou']\n",
      "Train dataset size: 95 samples\n",
      "Test dataset size: 65 samples\n"
     ]
    },
    {
     "name": "stderr",
     "output_type": "stream",
     "text": [
      "  0%|          | 0/5 [00:00<?, ?it/s]\n"
     ]
    },
    {
     "ename": "ValueError",
     "evalue": "need at least one array to stack",
     "output_type": "error",
     "traceback": [
      "\u001b[0;31m---------------------------------------------------------------------------\u001b[0m",
      "\u001b[0;31mValueError\u001b[0m                                Traceback (most recent call last)",
      "Cell \u001b[0;32mIn[12], line 58\u001b[0m\n\u001b[1;32m     55\u001b[0m optimizer \u001b[38;5;241m=\u001b[39m torch\u001b[38;5;241m.\u001b[39moptim\u001b[38;5;241m.\u001b[39mAdam(model\u001b[38;5;241m.\u001b[39mparameters(), lr\u001b[38;5;241m=\u001b[39mLEARNING_RATE)\n\u001b[1;32m     56\u001b[0m \u001b[38;5;66;03m# Train the model using our modular function\u001b[39;00m\n\u001b[0;32m---> 58\u001b[0m \u001b[43mtrain\u001b[49m\u001b[43m(\u001b[49m\n\u001b[1;32m     59\u001b[0m \u001b[43m    \u001b[49m\u001b[43mmodel\u001b[49m\u001b[38;5;241;43m=\u001b[39;49m\u001b[43mmodel\u001b[49m\u001b[43m,\u001b[49m\n\u001b[1;32m     60\u001b[0m \u001b[43m    \u001b[49m\u001b[43mtrain_dataloader\u001b[49m\u001b[38;5;241;43m=\u001b[39;49m\u001b[43mtrain_dataloader\u001b[49m\u001b[43m,\u001b[49m\n\u001b[1;32m     61\u001b[0m \u001b[43m    \u001b[49m\u001b[43mtest_dataloader\u001b[49m\u001b[38;5;241;43m=\u001b[39;49m\u001b[43mtest_dataloader\u001b[49m\u001b[43m,\u001b[49m\n\u001b[1;32m     62\u001b[0m \u001b[43m    \u001b[49m\u001b[43mloss_fn\u001b[49m\u001b[38;5;241;43m=\u001b[39;49m\u001b[43mcriterion\u001b[49m\u001b[43m,\u001b[49m\n\u001b[1;32m     63\u001b[0m \u001b[43m    \u001b[49m\u001b[43moptimizer\u001b[49m\u001b[38;5;241;43m=\u001b[39;49m\u001b[43moptimizer\u001b[49m\u001b[43m,\u001b[49m\n\u001b[1;32m     64\u001b[0m \u001b[43m    \u001b[49m\u001b[43mepochs\u001b[49m\u001b[38;5;241;43m=\u001b[39;49m\u001b[43mNUM_EPOCHS\u001b[49m\u001b[43m,\u001b[49m\n\u001b[1;32m     65\u001b[0m \u001b[43m    \u001b[49m\u001b[43mdevice\u001b[49m\u001b[38;5;241;43m=\u001b[39;49m\u001b[43mdevice\u001b[49m\n\u001b[1;32m     66\u001b[0m \u001b[43m)\u001b[49m\n\u001b[1;32m     67\u001b[0m \u001b[38;5;66;03m# Save the model\u001b[39;00m\n\u001b[1;32m     68\u001b[0m save_model(\n\u001b[1;32m     69\u001b[0m     model\u001b[38;5;241m=\u001b[39mmodel,\n\u001b[1;32m     70\u001b[0m     model_path\u001b[38;5;241m=\u001b[39m\u001b[38;5;124m'\u001b[39m\u001b[38;5;124mmodel/sign_language_model.pth\u001b[39m\u001b[38;5;124m'\u001b[39m,\n\u001b[1;32m     71\u001b[0m     actions\u001b[38;5;241m=\u001b[39mactions\n\u001b[1;32m     72\u001b[0m )\n",
      "File \u001b[0;32m~/Workspace/UNI/ChuyenNganh/module/model_utils.py:144\u001b[0m, in \u001b[0;36mtrain\u001b[0;34m(model, train_dataloader, test_dataloader, loss_fn, optimizer, learning_rate, epochs, device)\u001b[0m\n\u001b[1;32m    142\u001b[0m \u001b[38;5;66;03m# Training loop\u001b[39;00m\n\u001b[1;32m    143\u001b[0m \u001b[38;5;28;01mfor\u001b[39;00m epoch \u001b[38;5;129;01min\u001b[39;00m tqdm(\u001b[38;5;28mrange\u001b[39m(epochs)):\n\u001b[0;32m--> 144\u001b[0m   train_loss, train_acc \u001b[38;5;241m=\u001b[39m \u001b[43mtrain_step\u001b[49m\u001b[43m(\u001b[49m\u001b[43mmodel\u001b[49m\u001b[38;5;241;43m=\u001b[39;49m\u001b[43mmodel\u001b[49m\u001b[43m,\u001b[49m\n\u001b[1;32m    145\u001b[0m \u001b[43m                                      \u001b[49m\u001b[43mdataloader\u001b[49m\u001b[38;5;241;43m=\u001b[39;49m\u001b[43mtrain_dataloader\u001b[49m\u001b[43m,\u001b[49m\n\u001b[1;32m    146\u001b[0m \u001b[43m                                      \u001b[49m\u001b[43mloss_fn\u001b[49m\u001b[38;5;241;43m=\u001b[39;49m\u001b[43mloss_fn\u001b[49m\u001b[43m,\u001b[49m\n\u001b[1;32m    147\u001b[0m \u001b[43m                                      \u001b[49m\u001b[43moptimizer\u001b[49m\u001b[38;5;241;43m=\u001b[39;49m\u001b[43moptimizer\u001b[49m\u001b[43m,\u001b[49m\n\u001b[1;32m    148\u001b[0m \u001b[43m                                      \u001b[49m\u001b[43mdevice\u001b[49m\u001b[38;5;241;43m=\u001b[39;49m\u001b[43mdevice\u001b[49m\u001b[43m)\u001b[49m\n\u001b[1;32m    149\u001b[0m   test_loss, test_acc \u001b[38;5;241m=\u001b[39m test_step(model\u001b[38;5;241m=\u001b[39mmodel,\n\u001b[1;32m    150\u001b[0m       dataloader\u001b[38;5;241m=\u001b[39mtest_dataloader,\n\u001b[1;32m    151\u001b[0m       loss_fn\u001b[38;5;241m=\u001b[39mloss_fn,\n\u001b[1;32m    152\u001b[0m       device\u001b[38;5;241m=\u001b[39mdevice)\n\u001b[1;32m    154\u001b[0m   \u001b[38;5;66;03m# Print out what's happening\u001b[39;00m\n",
      "File \u001b[0;32m~/Workspace/UNI/ChuyenNganh/module/model_utils.py:202\u001b[0m, in \u001b[0;36mtrain_step\u001b[0;34m(model, dataloader, loss_fn, optimizer, device)\u001b[0m\n\u001b[1;32m    199\u001b[0m train_loss, train_acc \u001b[38;5;241m=\u001b[39m \u001b[38;5;241m0\u001b[39m, \u001b[38;5;241m0\u001b[39m\n\u001b[1;32m    201\u001b[0m \u001b[38;5;66;03m# Loop through data loader data batches\u001b[39;00m\n\u001b[0;32m--> 202\u001b[0m \u001b[38;5;28;01mfor\u001b[39;00m batch, (X, y) \u001b[38;5;129;01min\u001b[39;00m \u001b[38;5;28menumerate\u001b[39m(dataloader):\n\u001b[1;32m    203\u001b[0m     \u001b[38;5;66;03m# Send data to target device\u001b[39;00m\n\u001b[1;32m    204\u001b[0m     X, y \u001b[38;5;241m=\u001b[39m X\u001b[38;5;241m.\u001b[39mto(device), y\u001b[38;5;241m.\u001b[39mto(device)\n\u001b[1;32m    206\u001b[0m     \u001b[38;5;66;03m# 1. Forward pass\u001b[39;00m\n",
      "File \u001b[0;32m~/Workspace/UNI/ChuyenNganh/venv/lib/python3.10/site-packages/torch/utils/data/dataloader.py:708\u001b[0m, in \u001b[0;36m_BaseDataLoaderIter.__next__\u001b[0;34m(self)\u001b[0m\n\u001b[1;32m    705\u001b[0m \u001b[38;5;28;01mif\u001b[39;00m \u001b[38;5;28mself\u001b[39m\u001b[38;5;241m.\u001b[39m_sampler_iter \u001b[38;5;129;01mis\u001b[39;00m \u001b[38;5;28;01mNone\u001b[39;00m:\n\u001b[1;32m    706\u001b[0m     \u001b[38;5;66;03m# TODO(https://github.com/pytorch/pytorch/issues/76750)\u001b[39;00m\n\u001b[1;32m    707\u001b[0m     \u001b[38;5;28mself\u001b[39m\u001b[38;5;241m.\u001b[39m_reset()  \u001b[38;5;66;03m# type: ignore[call-arg]\u001b[39;00m\n\u001b[0;32m--> 708\u001b[0m data \u001b[38;5;241m=\u001b[39m \u001b[38;5;28;43mself\u001b[39;49m\u001b[38;5;241;43m.\u001b[39;49m\u001b[43m_next_data\u001b[49m\u001b[43m(\u001b[49m\u001b[43m)\u001b[49m\n\u001b[1;32m    709\u001b[0m \u001b[38;5;28mself\u001b[39m\u001b[38;5;241m.\u001b[39m_num_yielded \u001b[38;5;241m+\u001b[39m\u001b[38;5;241m=\u001b[39m \u001b[38;5;241m1\u001b[39m\n\u001b[1;32m    710\u001b[0m \u001b[38;5;28;01mif\u001b[39;00m (\n\u001b[1;32m    711\u001b[0m     \u001b[38;5;28mself\u001b[39m\u001b[38;5;241m.\u001b[39m_dataset_kind \u001b[38;5;241m==\u001b[39m _DatasetKind\u001b[38;5;241m.\u001b[39mIterable\n\u001b[1;32m    712\u001b[0m     \u001b[38;5;129;01mand\u001b[39;00m \u001b[38;5;28mself\u001b[39m\u001b[38;5;241m.\u001b[39m_IterableDataset_len_called \u001b[38;5;129;01mis\u001b[39;00m \u001b[38;5;129;01mnot\u001b[39;00m \u001b[38;5;28;01mNone\u001b[39;00m\n\u001b[1;32m    713\u001b[0m     \u001b[38;5;129;01mand\u001b[39;00m \u001b[38;5;28mself\u001b[39m\u001b[38;5;241m.\u001b[39m_num_yielded \u001b[38;5;241m>\u001b[39m \u001b[38;5;28mself\u001b[39m\u001b[38;5;241m.\u001b[39m_IterableDataset_len_called\n\u001b[1;32m    714\u001b[0m ):\n",
      "File \u001b[0;32m~/Workspace/UNI/ChuyenNganh/venv/lib/python3.10/site-packages/torch/utils/data/dataloader.py:764\u001b[0m, in \u001b[0;36m_SingleProcessDataLoaderIter._next_data\u001b[0;34m(self)\u001b[0m\n\u001b[1;32m    762\u001b[0m \u001b[38;5;28;01mdef\u001b[39;00m\u001b[38;5;250m \u001b[39m\u001b[38;5;21m_next_data\u001b[39m(\u001b[38;5;28mself\u001b[39m):\n\u001b[1;32m    763\u001b[0m     index \u001b[38;5;241m=\u001b[39m \u001b[38;5;28mself\u001b[39m\u001b[38;5;241m.\u001b[39m_next_index()  \u001b[38;5;66;03m# may raise StopIteration\u001b[39;00m\n\u001b[0;32m--> 764\u001b[0m     data \u001b[38;5;241m=\u001b[39m \u001b[38;5;28;43mself\u001b[39;49m\u001b[38;5;241;43m.\u001b[39;49m\u001b[43m_dataset_fetcher\u001b[49m\u001b[38;5;241;43m.\u001b[39;49m\u001b[43mfetch\u001b[49m\u001b[43m(\u001b[49m\u001b[43mindex\u001b[49m\u001b[43m)\u001b[49m  \u001b[38;5;66;03m# may raise StopIteration\u001b[39;00m\n\u001b[1;32m    765\u001b[0m     \u001b[38;5;28;01mif\u001b[39;00m \u001b[38;5;28mself\u001b[39m\u001b[38;5;241m.\u001b[39m_pin_memory:\n\u001b[1;32m    766\u001b[0m         data \u001b[38;5;241m=\u001b[39m _utils\u001b[38;5;241m.\u001b[39mpin_memory\u001b[38;5;241m.\u001b[39mpin_memory(data, \u001b[38;5;28mself\u001b[39m\u001b[38;5;241m.\u001b[39m_pin_memory_device)\n",
      "File \u001b[0;32m~/Workspace/UNI/ChuyenNganh/venv/lib/python3.10/site-packages/torch/utils/data/_utils/fetch.py:52\u001b[0m, in \u001b[0;36m_MapDatasetFetcher.fetch\u001b[0;34m(self, possibly_batched_index)\u001b[0m\n\u001b[1;32m     50\u001b[0m         data \u001b[38;5;241m=\u001b[39m \u001b[38;5;28mself\u001b[39m\u001b[38;5;241m.\u001b[39mdataset\u001b[38;5;241m.\u001b[39m__getitems__(possibly_batched_index)\n\u001b[1;32m     51\u001b[0m     \u001b[38;5;28;01melse\u001b[39;00m:\n\u001b[0;32m---> 52\u001b[0m         data \u001b[38;5;241m=\u001b[39m [\u001b[38;5;28mself\u001b[39m\u001b[38;5;241m.\u001b[39mdataset[idx] \u001b[38;5;28;01mfor\u001b[39;00m idx \u001b[38;5;129;01min\u001b[39;00m possibly_batched_index]\n\u001b[1;32m     53\u001b[0m \u001b[38;5;28;01melse\u001b[39;00m:\n\u001b[1;32m     54\u001b[0m     data \u001b[38;5;241m=\u001b[39m \u001b[38;5;28mself\u001b[39m\u001b[38;5;241m.\u001b[39mdataset[possibly_batched_index]\n",
      "File \u001b[0;32m~/Workspace/UNI/ChuyenNganh/venv/lib/python3.10/site-packages/torch/utils/data/_utils/fetch.py:52\u001b[0m, in \u001b[0;36m<listcomp>\u001b[0;34m(.0)\u001b[0m\n\u001b[1;32m     50\u001b[0m         data \u001b[38;5;241m=\u001b[39m \u001b[38;5;28mself\u001b[39m\u001b[38;5;241m.\u001b[39mdataset\u001b[38;5;241m.\u001b[39m__getitems__(possibly_batched_index)\n\u001b[1;32m     51\u001b[0m     \u001b[38;5;28;01melse\u001b[39;00m:\n\u001b[0;32m---> 52\u001b[0m         data \u001b[38;5;241m=\u001b[39m [\u001b[38;5;28;43mself\u001b[39;49m\u001b[38;5;241;43m.\u001b[39;49m\u001b[43mdataset\u001b[49m\u001b[43m[\u001b[49m\u001b[43midx\u001b[49m\u001b[43m]\u001b[49m \u001b[38;5;28;01mfor\u001b[39;00m idx \u001b[38;5;129;01min\u001b[39;00m possibly_batched_index]\n\u001b[1;32m     53\u001b[0m \u001b[38;5;28;01melse\u001b[39;00m:\n\u001b[1;32m     54\u001b[0m     data \u001b[38;5;241m=\u001b[39m \u001b[38;5;28mself\u001b[39m\u001b[38;5;241m.\u001b[39mdataset[possibly_batched_index]\n",
      "File \u001b[0;32m~/Workspace/UNI/ChuyenNganh/module/data_processing.py:62\u001b[0m, in \u001b[0;36mSignLanguageFolderDataset.__getitem__\u001b[0;34m(self, idx)\u001b[0m\n\u001b[1;32m     60\u001b[0m \u001b[38;5;66;03m# Load and stack frames\u001b[39;00m\n\u001b[1;32m     61\u001b[0m frames \u001b[38;5;241m=\u001b[39m [np\u001b[38;5;241m.\u001b[39mload(f) \u001b[38;5;28;01mfor\u001b[39;00m f \u001b[38;5;129;01min\u001b[39;00m frame_paths]\n\u001b[0;32m---> 62\u001b[0m sequence \u001b[38;5;241m=\u001b[39m \u001b[43mnp\u001b[49m\u001b[38;5;241;43m.\u001b[39;49m\u001b[43mstack\u001b[49m\u001b[43m(\u001b[49m\u001b[43mframes\u001b[49m\u001b[43m)\u001b[49m\n\u001b[1;32m     64\u001b[0m \u001b[38;5;28;01mreturn\u001b[39;00m torch\u001b[38;5;241m.\u001b[39mtensor(sequence, dtype\u001b[38;5;241m=\u001b[39mtorch\u001b[38;5;241m.\u001b[39mfloat32), torch\u001b[38;5;241m.\u001b[39mtensor(label, dtype\u001b[38;5;241m=\u001b[39mtorch\u001b[38;5;241m.\u001b[39mlong)\n",
      "File \u001b[0;32m~/Workspace/UNI/ChuyenNganh/venv/lib/python3.10/site-packages/numpy/core/shape_base.py:445\u001b[0m, in \u001b[0;36mstack\u001b[0;34m(arrays, axis, out, dtype, casting)\u001b[0m\n\u001b[1;32m    443\u001b[0m arrays \u001b[38;5;241m=\u001b[39m [asanyarray(arr) \u001b[38;5;28;01mfor\u001b[39;00m arr \u001b[38;5;129;01min\u001b[39;00m arrays]\n\u001b[1;32m    444\u001b[0m \u001b[38;5;28;01mif\u001b[39;00m \u001b[38;5;129;01mnot\u001b[39;00m arrays:\n\u001b[0;32m--> 445\u001b[0m     \u001b[38;5;28;01mraise\u001b[39;00m \u001b[38;5;167;01mValueError\u001b[39;00m(\u001b[38;5;124m'\u001b[39m\u001b[38;5;124mneed at least one array to stack\u001b[39m\u001b[38;5;124m'\u001b[39m)\n\u001b[1;32m    447\u001b[0m shapes \u001b[38;5;241m=\u001b[39m {arr\u001b[38;5;241m.\u001b[39mshape \u001b[38;5;28;01mfor\u001b[39;00m arr \u001b[38;5;129;01min\u001b[39;00m arrays}\n\u001b[1;32m    448\u001b[0m \u001b[38;5;28;01mif\u001b[39;00m \u001b[38;5;28mlen\u001b[39m(shapes) \u001b[38;5;241m!=\u001b[39m \u001b[38;5;241m1\u001b[39m:\n",
      "\u001b[0;31mValueError\u001b[0m: need at least one array to stack"
     ]
    }
   ],
   "source": [
    "# Run this cell to train with separate train and test datasets using our modular function\n",
    "\n",
    "# First, organize your data for testing if not already done\n",
    "# organize_data_for_testing(train_split=0.7)\n",
    "\n",
    "device = torch.device(\"cuda\" if torch.cuda.is_available() else \"cpu\")\n",
    "\n",
    "\n",
    "train_dir = \"data_train\"\n",
    "test_dir = \"data_test\"\n",
    "\n",
    "NUM_EPOCHS = 5\n",
    "BATCH_SIZE = 32\n",
    "HIDDEN_UNITS = 10\n",
    "LEARNING_RATE = 0.001\n",
    "INPUT_SIZE = 1662\n",
    "\n",
    "if not (os.path.exists(train_dir) and os.path.exists(test_dir)):\n",
    "    print(f\"end=point: {train_dir} or {test_dir} does not exist.\")\n",
    "    print(f\"Please run the data organization cell first.\")\n",
    "    organize_data_for_testing(train_split=0.7)\n",
    "\n",
    "\n",
    "train_dataloader, test_dataloader, class_names = create_separate_dataloaders(\n",
    "    train_dir=train_dir,\n",
    "    test_dir=test_dir,\n",
    "    batch_size=BATCH_SIZE,\n",
    ")\n",
    "\n",
    "print(f\"Created dataloaders with {len(class_names)} classes: {class_names}\")\n",
    "print(f\"Train dataset size: {len(train_dataloader.dataset)} samples\")\n",
    "print(f\"Test dataset size: {len(test_dataloader.dataset)} samples\")\n",
    "\n",
    "\n",
    "\n",
    "\n",
    "            \n",
    "# Initialize model using our modular structure\n",
    "model = LSTM_Sign_Model(\n",
    "    input_size=INPUT_SIZE, \n",
    "    hidden_size=HIDDEN_UNITS,\n",
    "    num_layers=NUM_EPOCHS,\n",
    "    num_classes=len(class_names) \n",
    ")\n",
    "        \n",
    "    \n",
    "# Make sure model is on the right device\n",
    "model.to(device)\n",
    "\n",
    "# Update the global actions variable for real-time detection\n",
    "actions = class_names\n",
    "\n",
    "# Set loss function and optimizer\n",
    "criterion = torch.nn.CrossEntropyLoss()\n",
    "optimizer = torch.optim.Adam(model.parameters(), lr=LEARNING_RATE)\n",
    "# Train the model using our modular function\n",
    "\n",
    "train(\n",
    "    model=model,\n",
    "    train_dataloader=train_dataloader,\n",
    "    test_dataloader=test_dataloader,\n",
    "    loss_fn=criterion,\n",
    "    optimizer=optimizer,\n",
    "    epochs=NUM_EPOCHS,\n",
    "    device=device\n",
    ")\n",
    "# Save the model\n",
    "save_model(\n",
    "    model=model,\n",
    "    model_path='model/sign_language_model.pth',\n",
    "    actions=actions\n",
    ")"
   ]
  },
  {
   "cell_type": "markdown",
   "id": "e0cb63c2",
   "metadata": {},
   "source": [
    "## Check Dataloaders and Fix Training Function\n",
    "\n",
    "Let's check if there's an issue with our dataloaders and fix the parameter mismatch in the train function call."
   ]
  },
  {
   "cell_type": "code",
   "execution_count": 27,
   "id": "789c5d5b",
   "metadata": {},
   "outputs": [
    {
     "name": "stdout",
     "output_type": "stream",
     "text": [
      "Data organized into data_train and data_test directories\n",
      "Training data: 70%, Testing data: 30%\n"
     ]
    }
   ],
   "source": [
    "import sys\n",
    "sys.path.append('./module')\n",
    "from module.mediapipe_utils import setup_holistic_model\n",
    "from module.data_processing import collect_sign_data, organize_data_for_testing, create_separate_dataloaders\n",
    "from module.model_utils import train, save_model, plot_loss_curves\n",
    "from module.realtime_asl import ASLDetector\n",
    "from module.sign_model_builder import LSTM_Sign_Model\n",
    "organize_data_for_testing(train_split=0.7)"
   ]
  },
  {
   "cell_type": "markdown",
   "id": "4e182307",
   "metadata": {},
   "source": [
    "## Fix Dataset Class for Consistent Sequence Lengths\n",
    "\n",
    "Let's fix the issue with the dataset class to ensure all sequences have the same length."
   ]
  },
  {
   "cell_type": "code",
   "execution_count": 21,
   "id": "7a15560b",
   "metadata": {},
   "outputs": [],
   "source": [
    "from torch.utils.data import Dataset, DataLoader\n",
    "import numpy as np\n",
    "import torch\n",
    "import os\n",
    "\n",
    "class FixedSignLanguageDataset(Dataset):\n",
    "    \"\"\"PyTorch Dataset for Sign Language folder structure with fixed-length sequences.\"\"\"\n",
    "    \n",
    "    def __init__(self, data_dir, target_frames=30):\n",
    "        self.data_dir = data_dir\n",
    "        self.target_frames = target_frames  # Target number of frames per sequence\n",
    "        self.classes = [cls for cls in os.listdir(data_dir) if not cls.startswith('.')]\n",
    "        self.class_to_idx = {cls: i for i, cls in enumerate(self.classes)}\n",
    "        \n",
    "        # Find all sequences\n",
    "        self.sequences = []\n",
    "        self.labels = []\n",
    "        \n",
    "        for cls in self.classes:\n",
    "            cls_dir = os.path.join(data_dir, cls)\n",
    "            for seq_id in os.listdir(cls_dir):\n",
    "                if not seq_id.startswith('.') and os.path.isdir(os.path.join(cls_dir, seq_id)):\n",
    "                    seq_path = os.path.join(cls_dir, seq_id)\n",
    "                    # Check if directory has at least one .npy file before adding\n",
    "                    npy_files = [f for f in os.listdir(seq_path) if f.endswith('.npy')]\n",
    "                    if len(npy_files) > 0:\n",
    "                        self.sequences.append(seq_path)\n",
    "                        self.labels.append(self.class_to_idx[cls])\n",
    "    \n",
    "    def __len__(self):\n",
    "        return len(self.sequences)\n",
    "    \n",
    "    def __getitem__(self, idx):\n",
    "        seq_path = self.sequences[idx]\n",
    "        label = self.labels[idx]\n",
    "        \n",
    "        # Load all frames in sequence\n",
    "        frames = []\n",
    "        frame_files = sorted([f for f in os.listdir(seq_path) if f.endswith('.npy')],\n",
    "                             key=lambda x: int(x.split('.')[0]))\n",
    "        \n",
    "        for frame_file in frame_files:\n",
    "            frame_path = os.path.join(seq_path, frame_file)\n",
    "            try:\n",
    "                frame = np.load(frame_path)\n",
    "                frames.append(frame)\n",
    "            except Exception as e:\n",
    "                print(f\"Error loading {frame_path}: {e}\")\n",
    "                continue\n",
    "                \n",
    "        # Ensure we have the right number of frames with proper handling\n",
    "        if len(frames) == 0:\n",
    "            # No valid frames, return zeros with the right shape\n",
    "            return torch.zeros((self.target_frames, 1662), dtype=torch.float32), torch.tensor(label, dtype=torch.long)\n",
    "        \n",
    "        # Check that all frames have the same shape\n",
    "        shapes = [frame.shape[0] for frame in frames]\n",
    "        if len(set(shapes)) > 1:\n",
    "            # If frames have different shapes, use only those with the most common shape\n",
    "            common_shape = max(set(shapes), key=shapes.count)\n",
    "            frames = [frame for frame in frames if frame.shape[0] == common_shape]\n",
    "            \n",
    "        # Handle sequences with different lengths\n",
    "        if len(frames) < self.target_frames:\n",
    "            # Pad short sequences by repeating the last frame\n",
    "            if len(frames) > 0:\n",
    "                last_frame = frames[-1]\n",
    "                padding = [last_frame] * (self.target_frames - len(frames))\n",
    "                frames.extend(padding)\n",
    "            else:\n",
    "                # No frames, generate empty ones\n",
    "                return torch.zeros((self.target_frames, 1662), dtype=torch.float32), torch.tensor(label, dtype=torch.long)\n",
    "        elif len(frames) > self.target_frames:\n",
    "            # Truncate long sequences\n",
    "            frames = frames[:self.target_frames]\n",
    "        \n",
    "        # Stack frames into a single array\n",
    "        sequence = np.stack(frames)\n",
    "        \n",
    "        return torch.tensor(sequence, dtype=torch.float32), torch.tensor(label, dtype=torch.long)\n",
    "\n",
    "# Create custom function to create dataloaders with the fixed dataset class\n",
    "def create_fixed_dataloaders(train_dir, test_dir, batch_size=32, num_workers=0):\n",
    "    \"\"\"Create separate training and testing dataloaders with fixed sequence lengths.\"\"\"\n",
    "    # Create datasets using our fixed dataset class\n",
    "    train_dataset = FixedSignLanguageDataset(train_dir)\n",
    "    test_dataset = FixedSignLanguageDataset(test_dir)\n",
    "    \n",
    "    # Create dataloaders\n",
    "    train_dataloader = DataLoader(\n",
    "        train_dataset,\n",
    "        batch_size=batch_size,\n",
    "        shuffle=True,\n",
    "        num_workers=num_workers\n",
    "    )\n",
    "    \n",
    "    test_dataloader = DataLoader(\n",
    "        test_dataset,\n",
    "        batch_size=batch_size,\n",
    "        shuffle=False,\n",
    "        num_workers=num_workers\n",
    "    )\n",
    "    \n",
    "    return train_dataloader, test_dataloader, train_dataset.classes"
   ]
  },
  {
   "cell_type": "code",
   "execution_count": 22,
   "id": "d2ce136a",
   "metadata": {},
   "outputs": [
    {
     "name": "stdout",
     "output_type": "stream",
     "text": [
      "Train dataloader length: 3\n",
      "Test dataloader length: 3\n",
      "Train batch 0: data shape = torch.Size([32, 30, 1662]), target shape = torch.Size([32])\n",
      "Test batch 0: data shape = torch.Size([32, 30, 1662]), target shape = torch.Size([32])\n"
     ]
    }
   ],
   "source": [
    "# Create new dataloaders with our fixed implementation\n",
    "train_dir = \"data_train\"\n",
    "test_dir = \"data_test\"\n",
    "BATCH_SIZE = 32\n",
    "\n",
    "train_dataloader, test_dataloader, class_names = create_fixed_dataloaders(\n",
    "    train_dir=train_dir,\n",
    "    test_dir=test_dir,\n",
    "    batch_size=BATCH_SIZE,\n",
    ")\n",
    "\n",
    "# Check if dataloaders are empty or have issues\n",
    "print(f\"Train dataloader length: {len(train_dataloader)}\")\n",
    "print(f\"Test dataloader length: {len(test_dataloader)}\")\n",
    "\n",
    "# Check first batch in each dataloader\n",
    "for batch_idx, (data, target) in enumerate(train_dataloader):\n",
    "    print(f\"Train batch {batch_idx}: data shape = {data.shape}, target shape = {target.shape}\")\n",
    "    break  # Just check the first batch\n",
    "    \n",
    "for batch_idx, (data, target) in enumerate(test_dataloader):\n",
    "    print(f\"Test batch {batch_idx}: data shape = {data.shape}, target shape = {target.shape}\")\n",
    "    break  # Just check the first batch\n",
    "    \n",
    "# Update the model for the correct number of classes\n",
    "NUM_EPOCHS = 5\n",
    "HIDDEN_UNITS = 10\n",
    "LEARNING_RATE = 0.001\n",
    "INPUT_SIZE = 1662\n",
    "\n",
    "# Initialize model using our modular structure\n",
    "model = LSTM_Sign_Model(\n",
    "    input_size=INPUT_SIZE, \n",
    "    hidden_size=HIDDEN_UNITS,\n",
    "    num_layers=1,  # Setting num_layers to 1 instead of NUM_EPOCHS which was incorrect\n",
    "    num_classes=len(class_names) \n",
    ")\n",
    "        \n",
    "# Make sure model is on the right device\n",
    "device = torch.device(\"cuda\" if torch.cuda.is_available() else \"cpu\")\n",
    "model.to(device)\n",
    "\n",
    "# Set loss function and optimizer\n",
    "criterion = torch.nn.CrossEntropyLoss()\n",
    "optimizer = torch.optim.Adam(model.parameters(), lr=LEARNING_RATE)"
   ]
  },
  {
   "cell_type": "code",
   "execution_count": 29,
   "id": "33e61d24",
   "metadata": {},
   "outputs": [
    {
     "name": "stderr",
     "output_type": "stream",
     "text": [
      " 40%|████      | 2/5 [00:00<00:00,  4.12it/s]"
     ]
    },
    {
     "name": "stdout",
     "output_type": "stream",
     "text": [
      "Epoch: 1 | train_loss: 1.2665 | train_acc: 0.3690 | test_loss: 1.2808 | test_acc: 0.2812\n",
      "Epoch: 2 | train_loss: 1.2517 | train_acc: 0.3696 | test_loss: 1.2727 | test_acc: 0.2708\n"
     ]
    },
    {
     "name": "stderr",
     "output_type": "stream",
     "text": [
      " 80%|████████  | 4/5 [00:00<00:00,  5.73it/s]"
     ]
    },
    {
     "name": "stdout",
     "output_type": "stream",
     "text": [
      "Epoch: 3 | train_loss: 1.2588 | train_acc: 0.3152 | test_loss: 1.2651 | test_acc: 0.4792\n",
      "Epoch: 4 | train_loss: 1.2579 | train_acc: 0.3464 | test_loss: 1.2553 | test_acc: 0.4792\n"
     ]
    },
    {
     "name": "stderr",
     "output_type": "stream",
     "text": [
      "100%|██████████| 5/5 [00:00<00:00,  5.22it/s]\n",
      "\n"
     ]
    },
    {
     "name": "stdout",
     "output_type": "stream",
     "text": [
      "Epoch: 5 | train_loss: 1.2496 | train_acc: 0.3474 | test_loss: 1.2456 | test_acc: 0.4792\n",
      "Model saved as 'model/sign_language_model.pth'\n"
     ]
    },
    {
     "data": {
      "image/png": "[encoded data removed]",
      "text/plain": [
       "<Figure size 1000x1000 with 2 Axes>"
      ]
     },
     "metadata": {},
     "output_type": "display_data"
    }
   ],
   "source": [
    "# Train the model with the corrected function call\n",
    "results = train(\n",
    "    model=model,\n",
    "    train_dataloader=train_dataloader,\n",
    "    test_dataloader=test_dataloader,\n",
    "    loss_fn=criterion,\n",
    "    optimizer=optimizer,\n",
    "    epochs=NUM_EPOCHS,\n",
    "    device=device\n",
    ") \n",
    "\n",
    "# Save the model\n",
    "save_model(\n",
    "    model=model,\n",
    "    path='model/sign_language_model.pth',\n",
    ")\n",
    "\n",
    "\n",
    "# Plot loss curves\n",
    "plot_loss_curves(results)\n"
   ]
  },
  {
   "cell_type": "markdown",
   "id": "8f4fc7d3",
   "metadata": {},
   "source": [
    "## Visualize Training Results\n",
    "\n",
    "Let's visualize the training and testing results to evaluate our model's performance."
   ]
  },
  {
   "cell_type": "code",
   "execution_count": null,
   "id": "072d967b",
   "metadata": {},
   "outputs": [],
   "source": [
    "# Plot loss curves from the training results\n",
    "try:\n",
    "    from module.helper_functions import plot_loss_curves\n",
    "    plot_loss_curves(results)\n",
    "except Exception as e:\n",
    "    print(f\"Error plotting loss curves: {e}\")\n",
    "    \n",
    "    # Alternative plotting method if helper function fails\n",
    "    import matplotlib.pyplot as plt\n",
    "    \n",
    "    plt.figure(figsize=(12, 4))\n",
    "    \n",
    "    plt.subplot(1, 2, 1)\n",
    "    plt.plot(results['train_loss'], label='Train Loss')\n",
    "    plt.plot(results['test_loss'], label='Test Loss')\n",
    "    plt.title('Loss Curves')\n",
    "    plt.xlabel('Epochs')\n",
    "    plt.ylabel('Loss')\n",
    "    plt.legend()\n",
    "    \n",
    "    plt.subplot(1, 2, 2)\n",
    "    plt.plot(results['train_acc'], label='Train Accuracy')\n",
    "    plt.plot(results['test_acc'], label='Test Accuracy')\n",
    "    plt.title('Accuracy Curves')\n",
    "    plt.xlabel('Epochs')\n",
    "    plt.ylabel('Accuracy')\n",
    "    plt.legend()\n",
    "    \n",
    "    plt.tight_layout()\n",
    "    plt.show()"
   ]
  },
  {
   "cell_type": "markdown",
   "id": "f7c3351e",
   "metadata": {},
   "source": [
    "## Future Improvements\n",
    "\n",
    "Here are some potential improvements for the application:\n",
    "\n",
    "1. **Sentence Formation**: Implement grammar rules to form proper sentences from detected signs.\n",
    "2. **Continuous Sign Language Recognition**: Improve the model to handle continuous signing.\n",
    "3. **User Interface**: Create a more user-friendly interface with settings for sensitivity and speech voice.\n",
    "4. **Mobile Application**: Convert the system to a mobile application for wider accessibility.\n",
    "5. **Expanded Vocabulary**: Train the model on a larger dataset to recognize more signs.\n",
    "6. **Two-Way Translation**: Add speech-to-sign functionality for two-way communication."
   ]
  },
  {
   "cell_type": "markdown",
   "id": "c97a01e7",
   "metadata": {},
   "source": [
    "## Conclusion\n",
    "\n",
    "This notebook demonstrates a real-time American Sign Language detection and speech synthesis system. The application uses:\n",
    "\n",
    "1. MediaPipe for hand tracking and landmark detection\n",
    "2. PyTorch for sign classification using an LSTM model\n",
    "3. OpenCV for video capture and visualization\n",
    "4. pyttsx3 for text-to-speech conversion\n",
    "\n",
    "The system can detect Word-Level ASL signs and convert them to speech in real-time, providing a valuable tool for sign language communication."
   ]
  }
 ],
 "metadata": {
  "kernelspec": {
   "display_name": "venv (3.10.16)",
   "language": "python",
   "name": "python3"
  },
  "language_info": {
   "codemirror_mode": {
    "name": "ipython",
    "version": 3
   },
   "file_extension": ".py",
   "mimetype": "text/x-python",
   "name": "python",
   "nbconvert_exporter": "python",
   "pygments_lexer": "ipython3",
   "version": "3.10.16"
  }
 },
 "nbformat": 4,
 "nbformat_minor": 5
}
